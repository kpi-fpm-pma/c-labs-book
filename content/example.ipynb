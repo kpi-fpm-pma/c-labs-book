{
 "cells": [
  {
   "cell_type": "code",
   "execution_count": 2,
   "metadata": {
    "tags": [
     "remove_cell"
    ]
   },
   "outputs": [],
   "source": [
    "from IPython.display import display, IFrame"
   ]
  },
  {
   "cell_type": "markdown",
   "metadata": {},
   "source": [
    "# Теоретичні відомості\n",
    "\n",
    "Ось приклад вбудованого коду на С. Зверніть увагу на прихований блок з імпортом вище — він не буде відображений на кінцевій сторінці. Відкрийте панель з гаєчним ключем зліва при редагуванні цього нотатника і подивіться на метаданні клітинки (Advanced Tools -> Cell Metadata).\n",
    "\n",
    "Зверніть також увагу на метаданні клітини з убудованим фреймом.\n",
    "\n",
    "Текст програми нижче — не інтерактивний. Нажаль, він необхідний для нормального відображення на надрукованих сторінках. Якщо маєте ідеї відносно кращого відображення, кажіть."
   ]
  },
  {
   "cell_type": "markdown",
   "metadata": {},
   "source": [
    "```C\n",
    "#include <stdio.h>\n",
    "\n",
    "int main(void) \n",
    "{\n",
    "  double a[100];\n",
    "  int n, i;\n",
    "  printf(\"Уведіть кількість чисел n =\");\n",
    "  scanf(\"%d\", &n);\n",
    "  if(n > (sizeof a) / sizeof(double))\n",
    "  {\n",
    "    printf(\"Забагато елементів\\n\");\n",
    "    return 0;\n",
    "  }\n",
    "  for(i = 0; i < n; i++)\n",
    "  {\n",
    "    printf(\"a[%d] = \", i);\n",
    "    scanf(\"%lf\", &a[i]);\n",
    "  }\n",
    "  for (i = 0; i < n; ++i)\n",
    "  {\n",
    "    printf(\"%f\\n\", a[i]);\n",
    "  }  \n",
    "}\n",
    "```"
   ]
  },
  {
   "cell_type": "code",
   "execution_count": 3,
   "metadata": {
    "tags": [
     "remove_input",
     "hide_output",
     "full_width"
    ]
   },
   "outputs": [
    {
     "data": {
      "text/html": [
       "\n",
       "        <iframe\n",
       "            width=\"100%\"\n",
       "            height=\"600\"\n",
       "            src=\"https://repl.it/repls/AwkwardMarriedParser?lite=true\"\n",
       "            frameborder=\"0\"\n",
       "            allowfullscreen\n",
       "        ></iframe>\n",
       "        "
      ],
      "text/plain": [
       "<IPython.lib.display.IFrame at 0x69123f0>"
      ]
     },
     "metadata": {},
     "output_type": "display_data"
    }
   ],
   "source": [
    "display(IFrame(\"https://repl.it/repls/AwkwardMarriedParser?lite=true\", width=\"100%\", height=600))"
   ]
  }
 ],
 "metadata": {
  "kernelspec": {
   "display_name": "Python 3",
   "language": "python",
   "name": "python3"
  },
  "language_info": {
   "codemirror_mode": {
    "name": "ipython",
    "version": 3
   },
   "file_extension": ".py",
   "mimetype": "text/x-python",
   "name": "python",
   "nbconvert_exporter": "python",
   "pygments_lexer": "ipython3",
   "version": "3.6.3"
  }
 },
 "nbformat": 4,
 "nbformat_minor": 4
}
